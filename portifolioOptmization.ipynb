{
  "nbformat": 4,
  "nbformat_minor": 0,
  "metadata": {
    "colab": {
      "name": "portifolioOptmization.ipynb",
      "provenance": [],
      "collapsed_sections": [],
      "authorship_tag": "ABX9TyMHhu6czGUAg82h7bz7Cxxz",
      "include_colab_link": true
    },
    "kernelspec": {
      "name": "python3",
      "display_name": "Python 3"
    }
  },
  "cells": [
    {
      "cell_type": "markdown",
      "metadata": {
        "id": "view-in-github",
        "colab_type": "text"
      },
      "source": [
        "<a href=\"https://colab.research.google.com/github/thiagosantos346/FinancesPy/blob/main/portifolioOptmization.ipynb\" target=\"_parent\"><img src=\"https://colab.research.google.com/assets/colab-badge.svg\" alt=\"Open In Colab\"/></a>"
      ]
    },
    {
      "cell_type": "code",
      "metadata": {
        "id": "MLLZ2vEoBLkP"
      },
      "source": [
        "# Description : This program attempts to optimize a users portifolio using the \n",
        "#              Efficiente Frontier"
      ],
      "execution_count": 1,
      "outputs": []
    },
    {
      "cell_type": "code",
      "metadata": {
        "id": "mQwjs4fJBikS"
      },
      "source": [
        "# Import The python libraries\n",
        "from pandas_datareader import data as web\n",
        "import pandas as pd\n",
        "import numpy as np\n",
        "from datetime import datetime\n",
        "import matplotlib.pyplot as plt\n",
        "\n",
        "plt.style.use('fivethirtyeight')"
      ],
      "execution_count": 3,
      "outputs": []
    },
    {
      "cell_type": "code",
      "metadata": {
        "id": "dNEfjedVCFgM"
      },
      "source": [
        "# Get the stock symbols/ tickers in the portfolio\n",
        "#FAANG\n",
        "assets = ['SANB4.SA', 'BBSE3.SA', 'TAEE11.SA', 'ITSA4.SA', 'VALE3.SA']"
      ],
      "execution_count": 109,
      "outputs": []
    },
    {
      "cell_type": "code",
      "metadata": {
        "id": "1BHLtrLPCiTL"
      },
      "source": [
        "# Assing weights to the stocks.\n",
        "weights = np.array([0.2, 0.2, 0.2, 0.2, 0.2])"
      ],
      "execution_count": 110,
      "outputs": []
    },
    {
      "cell_type": "code",
      "metadata": {
        "id": "XAEjA3AqC63y"
      },
      "source": [
        "# Get the stock/portfolio stating date\n",
        "stockStarteDate = '2013-01-01'"
      ],
      "execution_count": 111,
      "outputs": []
    },
    {
      "cell_type": "code",
      "metadata": {
        "id": "ekjHDPRoDDJr",
        "outputId": "b43c14ed-ea3f-4292-9330-e815631be641",
        "colab": {
          "base_uri": "https://localhost:8080/",
          "height": 35
        }
      },
      "source": [
        "# Get the socks ending date (today)\n",
        "\n",
        "today = '2020-10-17'\n",
        "today"
      ],
      "execution_count": 112,
      "outputs": [
        {
          "output_type": "execute_result",
          "data": {
            "application/vnd.google.colaboratory.intrinsic+json": {
              "type": "string"
            },
            "text/plain": [
              "'2020-10-17'"
            ]
          },
          "metadata": {
            "tags": []
          },
          "execution_count": 112
        }
      ]
    },
    {
      "cell_type": "code",
      "metadata": {
        "id": "b5B0ERx5DaE7"
      },
      "source": [
        "# Create a dateframe to store the adjusted close price of the stocks\n",
        "df = pd.DataFrame()\n",
        "\n",
        "# Store the adjusted close prionce of the stock into the dataframe\n",
        "\n",
        "for stock in assets:\n",
        "  df[stock] = web.DataReader(stock, data_source='yahoo', start = stockStarteDate, end = today)['Adj Close']"
      ],
      "execution_count": 113,
      "outputs": []
    },
    {
      "cell_type": "code",
      "metadata": {
        "id": "rIeUY5HlEaGw",
        "outputId": "ba6387dd-e852-4954-f0fe-e726f556f44f",
        "colab": {
          "base_uri": "https://localhost:8080/",
          "height": 419
        }
      },
      "source": [
        "# Show de dataframe \n",
        "\n",
        "df"
      ],
      "execution_count": 114,
      "outputs": [
        {
          "output_type": "execute_result",
          "data": {
            "text/html": [
              "<div>\n",
              "<style scoped>\n",
              "    .dataframe tbody tr th:only-of-type {\n",
              "        vertical-align: middle;\n",
              "    }\n",
              "\n",
              "    .dataframe tbody tr th {\n",
              "        vertical-align: top;\n",
              "    }\n",
              "\n",
              "    .dataframe thead th {\n",
              "        text-align: right;\n",
              "    }\n",
              "</style>\n",
              "<table border=\"1\" class=\"dataframe\">\n",
              "  <thead>\n",
              "    <tr style=\"text-align: right;\">\n",
              "      <th></th>\n",
              "      <th>SANB4.SA</th>\n",
              "      <th>BBSE3.SA</th>\n",
              "      <th>TAEE11.SA</th>\n",
              "      <th>ITSA4.SA</th>\n",
              "      <th>VALE3.SA</th>\n",
              "    </tr>\n",
              "  </thead>\n",
              "  <tbody>\n",
              "    <tr>\n",
              "      <th>2013-01-02</th>\n",
              "      <td>4.916821</td>\n",
              "      <td>NaN</td>\n",
              "      <td>10.592811</td>\n",
              "      <td>3.973818</td>\n",
              "      <td>31.937414</td>\n",
              "    </tr>\n",
              "    <tr>\n",
              "      <th>2013-01-03</th>\n",
              "      <td>4.916821</td>\n",
              "      <td>NaN</td>\n",
              "      <td>10.763664</td>\n",
              "      <td>4.100598</td>\n",
              "      <td>31.394257</td>\n",
              "    </tr>\n",
              "    <tr>\n",
              "      <th>2013-01-04</th>\n",
              "      <td>4.916821</td>\n",
              "      <td>NaN</td>\n",
              "      <td>11.154184</td>\n",
              "      <td>4.080791</td>\n",
              "      <td>30.909048</td>\n",
              "    </tr>\n",
              "    <tr>\n",
              "      <th>2013-01-07</th>\n",
              "      <td>4.916821</td>\n",
              "      <td>NaN</td>\n",
              "      <td>11.422666</td>\n",
              "      <td>4.029286</td>\n",
              "      <td>30.300709</td>\n",
              "    </tr>\n",
              "    <tr>\n",
              "      <th>2013-01-08</th>\n",
              "      <td>4.916821</td>\n",
              "      <td>NaN</td>\n",
              "      <td>11.222526</td>\n",
              "      <td>4.057022</td>\n",
              "      <td>30.061718</td>\n",
              "    </tr>\n",
              "    <tr>\n",
              "      <th>...</th>\n",
              "      <td>...</td>\n",
              "      <td>...</td>\n",
              "      <td>...</td>\n",
              "      <td>...</td>\n",
              "      <td>...</td>\n",
              "    </tr>\n",
              "    <tr>\n",
              "      <th>2020-10-09</th>\n",
              "      <td>16.889999</td>\n",
              "      <td>24.200001</td>\n",
              "      <td>28.000000</td>\n",
              "      <td>9.360000</td>\n",
              "      <td>61.599998</td>\n",
              "    </tr>\n",
              "    <tr>\n",
              "      <th>2020-10-13</th>\n",
              "      <td>16.990000</td>\n",
              "      <td>24.540001</td>\n",
              "      <td>27.980000</td>\n",
              "      <td>9.320000</td>\n",
              "      <td>62.139999</td>\n",
              "    </tr>\n",
              "    <tr>\n",
              "      <th>2020-10-14</th>\n",
              "      <td>17.120001</td>\n",
              "      <td>24.730000</td>\n",
              "      <td>28.059999</td>\n",
              "      <td>9.290000</td>\n",
              "      <td>63.000000</td>\n",
              "    </tr>\n",
              "    <tr>\n",
              "      <th>2020-10-15</th>\n",
              "      <td>16.900000</td>\n",
              "      <td>24.790001</td>\n",
              "      <td>28.010000</td>\n",
              "      <td>9.250000</td>\n",
              "      <td>62.470001</td>\n",
              "    </tr>\n",
              "    <tr>\n",
              "      <th>2020-10-16</th>\n",
              "      <td>16.379999</td>\n",
              "      <td>24.580000</td>\n",
              "      <td>28.330000</td>\n",
              "      <td>9.070000</td>\n",
              "      <td>62.240002</td>\n",
              "    </tr>\n",
              "  </tbody>\n",
              "</table>\n",
              "<p>1935 rows × 5 columns</p>\n",
              "</div>"
            ],
            "text/plain": [
              "             SANB4.SA   BBSE3.SA  TAEE11.SA  ITSA4.SA   VALE3.SA\n",
              "2013-01-02   4.916821        NaN  10.592811  3.973818  31.937414\n",
              "2013-01-03   4.916821        NaN  10.763664  4.100598  31.394257\n",
              "2013-01-04   4.916821        NaN  11.154184  4.080791  30.909048\n",
              "2013-01-07   4.916821        NaN  11.422666  4.029286  30.300709\n",
              "2013-01-08   4.916821        NaN  11.222526  4.057022  30.061718\n",
              "...               ...        ...        ...       ...        ...\n",
              "2020-10-09  16.889999  24.200001  28.000000  9.360000  61.599998\n",
              "2020-10-13  16.990000  24.540001  27.980000  9.320000  62.139999\n",
              "2020-10-14  17.120001  24.730000  28.059999  9.290000  63.000000\n",
              "2020-10-15  16.900000  24.790001  28.010000  9.250000  62.470001\n",
              "2020-10-16  16.379999  24.580000  28.330000  9.070000  62.240002\n",
              "\n",
              "[1935 rows x 5 columns]"
            ]
          },
          "metadata": {
            "tags": []
          },
          "execution_count": 114
        }
      ]
    },
    {
      "cell_type": "code",
      "metadata": {
        "id": "56ws3wFxEilc",
        "outputId": "1f01d64e-226d-4333-efb6-286107033ccb",
        "colab": {
          "base_uri": "https://localhost:8080/",
          "height": 342
        }
      },
      "source": [
        "# Visually show the stock / portifolio\n",
        "title = 'Portfolio Adj. Close Prince History'\n",
        "\n",
        "# Get The stock\n",
        "my_stocks = df\n",
        "\n",
        "# Create and plt the graph\n",
        "for c in my_stocks.columns.values:\n",
        "  plt.plot(my_stocks[c], label = c)\n",
        "\n",
        "plt.title(title)\n",
        "plt.xlabel('Date', fontsize = 18)\n",
        "plt.ylabel('Adj. Price USD ($)', fontsize= 18)\n",
        "plt.legend(my_stocks.columns.values, loc=  'upper left')"
      ],
      "execution_count": 115,
      "outputs": [
        {
          "output_type": "execute_result",
          "data": {
            "text/plain": [
              "<matplotlib.legend.Legend at 0x7f6f8260bc88>"
            ]
          },
          "metadata": {
            "tags": []
          },
          "execution_count": 115
        },
        {
          "output_type": "display_data",
          "data": {
            "image/png": "[encoded data removed]",
            "text/plain": [
              "<Figure size 432x288 with 1 Axes>"
            ]
          },
          "metadata": {
            "tags": []
          }
        }
      ]
    },
    {
      "cell_type": "code",
      "metadata": {
        "id": "lZF5RKDSFqrI",
        "outputId": "253be775-7dd0-4472-8dec-2ce78b7af24d",
        "colab": {
          "base_uri": "https://localhost:8080/",
          "height": 419
        }
      },
      "source": [
        "#Show the daily simple return\n",
        "returns = df.pct_change()\n",
        "returns"
      ],
      "execution_count": 116,
      "outputs": [
        {
          "output_type": "execute_result",
          "data": {
            "text/html": [
              "<div>\n",
              "<style scoped>\n",
              "    .dataframe tbody tr th:only-of-type {\n",
              "        vertical-align: middle;\n",
              "    }\n",
              "\n",
              "    .dataframe tbody tr th {\n",
              "        vertical-align: top;\n",
              "    }\n",
              "\n",
              "    .dataframe thead th {\n",
              "        text-align: right;\n",
              "    }\n",
              "</style>\n",
              "<table border=\"1\" class=\"dataframe\">\n",
              "  <thead>\n",
              "    <tr style=\"text-align: right;\">\n",
              "      <th></th>\n",
              "      <th>SANB4.SA</th>\n",
              "      <th>BBSE3.SA</th>\n",
              "      <th>TAEE11.SA</th>\n",
              "      <th>ITSA4.SA</th>\n",
              "      <th>VALE3.SA</th>\n",
              "    </tr>\n",
              "  </thead>\n",
              "  <tbody>\n",
              "    <tr>\n",
              "      <th>2013-01-02</th>\n",
              "      <td>NaN</td>\n",
              "      <td>NaN</td>\n",
              "      <td>NaN</td>\n",
              "      <td>NaN</td>\n",
              "      <td>NaN</td>\n",
              "    </tr>\n",
              "    <tr>\n",
              "      <th>2013-01-03</th>\n",
              "      <td>0.000000</td>\n",
              "      <td>NaN</td>\n",
              "      <td>0.016129</td>\n",
              "      <td>0.031904</td>\n",
              "      <td>-0.017007</td>\n",
              "    </tr>\n",
              "    <tr>\n",
              "      <th>2013-01-04</th>\n",
              "      <td>0.000000</td>\n",
              "      <td>NaN</td>\n",
              "      <td>0.036281</td>\n",
              "      <td>-0.004830</td>\n",
              "      <td>-0.015455</td>\n",
              "    </tr>\n",
              "    <tr>\n",
              "      <th>2013-01-07</th>\n",
              "      <td>0.000000</td>\n",
              "      <td>NaN</td>\n",
              "      <td>0.024070</td>\n",
              "      <td>-0.012621</td>\n",
              "      <td>-0.019682</td>\n",
              "    </tr>\n",
              "    <tr>\n",
              "      <th>2013-01-08</th>\n",
              "      <td>0.000000</td>\n",
              "      <td>NaN</td>\n",
              "      <td>-0.017521</td>\n",
              "      <td>0.006884</td>\n",
              "      <td>-0.007887</td>\n",
              "    </tr>\n",
              "    <tr>\n",
              "      <th>...</th>\n",
              "      <td>...</td>\n",
              "      <td>...</td>\n",
              "      <td>...</td>\n",
              "      <td>...</td>\n",
              "      <td>...</td>\n",
              "    </tr>\n",
              "    <tr>\n",
              "      <th>2020-10-09</th>\n",
              "      <td>0.026748</td>\n",
              "      <td>-0.012245</td>\n",
              "      <td>-0.004267</td>\n",
              "      <td>0.003215</td>\n",
              "      <td>0.005058</td>\n",
              "    </tr>\n",
              "    <tr>\n",
              "      <th>2020-10-13</th>\n",
              "      <td>0.005921</td>\n",
              "      <td>0.014050</td>\n",
              "      <td>-0.000714</td>\n",
              "      <td>-0.004274</td>\n",
              "      <td>0.008766</td>\n",
              "    </tr>\n",
              "    <tr>\n",
              "      <th>2020-10-14</th>\n",
              "      <td>0.007652</td>\n",
              "      <td>0.007742</td>\n",
              "      <td>0.002859</td>\n",
              "      <td>-0.003219</td>\n",
              "      <td>0.013840</td>\n",
              "    </tr>\n",
              "    <tr>\n",
              "      <th>2020-10-15</th>\n",
              "      <td>-0.012851</td>\n",
              "      <td>0.002426</td>\n",
              "      <td>-0.001782</td>\n",
              "      <td>-0.004306</td>\n",
              "      <td>-0.008413</td>\n",
              "    </tr>\n",
              "    <tr>\n",
              "      <th>2020-10-16</th>\n",
              "      <td>-0.030769</td>\n",
              "      <td>-0.008471</td>\n",
              "      <td>0.011424</td>\n",
              "      <td>-0.019459</td>\n",
              "      <td>-0.003682</td>\n",
              "    </tr>\n",
              "  </tbody>\n",
              "</table>\n",
              "<p>1935 rows × 5 columns</p>\n",
              "</div>"
            ],
            "text/plain": [
              "            SANB4.SA  BBSE3.SA  TAEE11.SA  ITSA4.SA  VALE3.SA\n",
              "2013-01-02       NaN       NaN        NaN       NaN       NaN\n",
              "2013-01-03  0.000000       NaN   0.016129  0.031904 -0.017007\n",
              "2013-01-04  0.000000       NaN   0.036281 -0.004830 -0.015455\n",
              "2013-01-07  0.000000       NaN   0.024070 -0.012621 -0.019682\n",
              "2013-01-08  0.000000       NaN  -0.017521  0.006884 -0.007887\n",
              "...              ...       ...        ...       ...       ...\n",
              "2020-10-09  0.026748 -0.012245  -0.004267  0.003215  0.005058\n",
              "2020-10-13  0.005921  0.014050  -0.000714 -0.004274  0.008766\n",
              "2020-10-14  0.007652  0.007742   0.002859 -0.003219  0.013840\n",
              "2020-10-15 -0.012851  0.002426  -0.001782 -0.004306 -0.008413\n",
              "2020-10-16 -0.030769 -0.008471   0.011424 -0.019459 -0.003682\n",
              "\n",
              "[1935 rows x 5 columns]"
            ]
          },
          "metadata": {
            "tags": []
          },
          "execution_count": 116
        }
      ]
    },
    {
      "cell_type": "code",
      "metadata": {
        "id": "0IrZjdL-Gvji",
        "outputId": "8f67c46a-d40d-42bb-89d0-1477cac42ba7",
        "colab": {
          "base_uri": "https://localhost:8080/",
          "height": 204
        }
      },
      "source": [
        "# Create and show the annulized covarience matrix\n",
        "cov_matrix_annual = returns.cov() * 252\n",
        "cov_matrix_annual"
      ],
      "execution_count": 117,
      "outputs": [
        {
          "output_type": "execute_result",
          "data": {
            "text/html": [
              "<div>\n",
              "<style scoped>\n",
              "    .dataframe tbody tr th:only-of-type {\n",
              "        vertical-align: middle;\n",
              "    }\n",
              "\n",
              "    .dataframe tbody tr th {\n",
              "        vertical-align: top;\n",
              "    }\n",
              "\n",
              "    .dataframe thead th {\n",
              "        text-align: right;\n",
              "    }\n",
              "</style>\n",
              "<table border=\"1\" class=\"dataframe\">\n",
              "  <thead>\n",
              "    <tr style=\"text-align: right;\">\n",
              "      <th></th>\n",
              "      <th>SANB4.SA</th>\n",
              "      <th>BBSE3.SA</th>\n",
              "      <th>TAEE11.SA</th>\n",
              "      <th>ITSA4.SA</th>\n",
              "      <th>VALE3.SA</th>\n",
              "    </tr>\n",
              "  </thead>\n",
              "  <tbody>\n",
              "    <tr>\n",
              "      <th>SANB4.SA</th>\n",
              "      <td>0.283554</td>\n",
              "      <td>0.045582</td>\n",
              "      <td>0.026082</td>\n",
              "      <td>0.065387</td>\n",
              "      <td>0.052815</td>\n",
              "    </tr>\n",
              "    <tr>\n",
              "      <th>BBSE3.SA</th>\n",
              "      <td>0.045582</td>\n",
              "      <td>0.100460</td>\n",
              "      <td>0.025385</td>\n",
              "      <td>0.060294</td>\n",
              "      <td>0.039803</td>\n",
              "    </tr>\n",
              "    <tr>\n",
              "      <th>TAEE11.SA</th>\n",
              "      <td>0.026082</td>\n",
              "      <td>0.025385</td>\n",
              "      <td>0.062279</td>\n",
              "      <td>0.027947</td>\n",
              "      <td>0.022673</td>\n",
              "    </tr>\n",
              "    <tr>\n",
              "      <th>ITSA4.SA</th>\n",
              "      <td>0.065387</td>\n",
              "      <td>0.060294</td>\n",
              "      <td>0.027947</td>\n",
              "      <td>0.098751</td>\n",
              "      <td>0.051430</td>\n",
              "    </tr>\n",
              "    <tr>\n",
              "      <th>VALE3.SA</th>\n",
              "      <td>0.052815</td>\n",
              "      <td>0.039803</td>\n",
              "      <td>0.022673</td>\n",
              "      <td>0.051430</td>\n",
              "      <td>0.216614</td>\n",
              "    </tr>\n",
              "  </tbody>\n",
              "</table>\n",
              "</div>"
            ],
            "text/plain": [
              "           SANB4.SA  BBSE3.SA  TAEE11.SA  ITSA4.SA  VALE3.SA\n",
              "SANB4.SA   0.283554  0.045582   0.026082  0.065387  0.052815\n",
              "BBSE3.SA   0.045582  0.100460   0.025385  0.060294  0.039803\n",
              "TAEE11.SA  0.026082  0.025385   0.062279  0.027947  0.022673\n",
              "ITSA4.SA   0.065387  0.060294   0.027947  0.098751  0.051430\n",
              "VALE3.SA   0.052815  0.039803   0.022673  0.051430  0.216614"
            ]
          },
          "metadata": {
            "tags": []
          },
          "execution_count": 117
        }
      ]
    },
    {
      "cell_type": "code",
      "metadata": {
        "id": "zXSbTkohHJFy",
        "outputId": "9e70a020-9158-4015-f6dd-ab3ffea415ec",
        "colab": {
          "base_uri": "https://localhost:8080/",
          "height": 34
        }
      },
      "source": [
        "# Calculate the portfolio varience \n",
        "port_variance = np.dot(weights.T, np.dot(cov_matrix_annual, weights))\n",
        "port_variance"
      ],
      "execution_count": 118,
      "outputs": [
        {
          "output_type": "execute_result",
          "data": {
            "text/plain": [
              "0.06385826300257438"
            ]
          },
          "metadata": {
            "tags": []
          },
          "execution_count": 118
        }
      ]
    },
    {
      "cell_type": "code",
      "metadata": {
        "id": "sMfEYMuWHgOk",
        "outputId": "7521f024-1a27-48a0-8d5f-0802d15b2b9e",
        "colab": {
          "base_uri": "https://localhost:8080/",
          "height": 34
        }
      },
      "source": [
        "# Calculare the portfolio volatily aka standard deviation\n",
        "port_volatility = np.sqrt(port_variance)\n",
        "port_volatility"
      ],
      "execution_count": 119,
      "outputs": [
        {
          "output_type": "execute_result",
          "data": {
            "text/plain": [
              "0.2527019252055164"
            ]
          },
          "metadata": {
            "tags": []
          },
          "execution_count": 119
        }
      ]
    },
    {
      "cell_type": "code",
      "metadata": {
        "id": "fnECb4UhH4cl",
        "outputId": "7e6235eb-db23-4af9-bc4a-93cbafe13807",
        "colab": {
          "base_uri": "https://localhost:8080/",
          "height": 34
        }
      },
      "source": [
        "# Calculare the annual portfolio return\n",
        "portfolioSimpleAnnualReturn = np.sum(returns.mean() * weights) * 252\n",
        "portfolioSimpleAnnualReturn"
      ],
      "execution_count": 120,
      "outputs": [
        {
          "output_type": "execute_result",
          "data": {
            "text/plain": [
              "0.19678522719258973"
            ]
          },
          "metadata": {
            "tags": []
          },
          "execution_count": 120
        }
      ]
    },
    {
      "cell_type": "code",
      "metadata": {
        "id": "4AVQtO7oIPkq",
        "outputId": "bda36d3f-953c-4658-83a3-6a39a767864e",
        "colab": {
          "base_uri": "https://localhost:8080/",
          "height": 68
        }
      },
      "source": [
        "# Show the expected annual return, volatilily (risk), and variance\n",
        "\n",
        "percent_var = str(round(port_variance, 2) * 100 ) + '%'\n",
        "percent_voVls = str(round(port_volatility, 2) * 100) + '%'\n",
        "percente_ret = str(round(portfolioSimpleAnnualReturn, 2) * 100) + '%'\n",
        "\n",
        "print('Expected annual return            : '+ percente_ret)\n",
        "print('Expected annual volatility (rick) : '+ percent_vols)\n",
        "print('Expected annual variance          : '+ percent_var)"
      ],
      "execution_count": 121,
      "outputs": [
        {
          "output_type": "stream",
          "text": [
            "Expected annual return            : 20.0%\n",
            "Expected annual volatility (rick) : 28.999999999999996%\n",
            "Expected annual variance          : 6.0%\n"
          ],
          "name": "stdout"
        }
      ]
    },
    {
      "cell_type": "code",
      "metadata": {
        "id": "O06THWzALLjO",
        "outputId": "681d0cb5-ad0a-4848-9ee2-5ea9faf5e5d7",
        "colab": {
          "base_uri": "https://localhost:8080/",
          "height": 272
        }
      },
      "source": [
        "!pip install PyPortfolioOpt"
      ],
      "execution_count": 122,
      "outputs": [
        {
          "output_type": "stream",
          "text": [
            "Requirement already satisfied: PyPortfolioOpt in /usr/local/lib/python3.6/dist-packages (1.2.6)\n",
            "Requirement already satisfied: numpy<2.0,>=1.12 in /usr/local/lib/python3.6/dist-packages (from PyPortfolioOpt) (1.18.5)\n",
            "Requirement already satisfied: cvxpy<2.0,>=1.0 in /usr/local/lib/python3.6/dist-packages (from PyPortfolioOpt) (1.0.31)\n",
            "Requirement already satisfied: cvxopt<2.0,>=1.2 in /usr/local/lib/python3.6/dist-packages (from PyPortfolioOpt) (1.2.5)\n",
            "Requirement already satisfied: pandas>=0.19 in /usr/local/lib/python3.6/dist-packages (from PyPortfolioOpt) (1.1.2)\n",
            "Requirement already satisfied: scipy<2.0,>=1.3 in /usr/local/lib/python3.6/dist-packages (from PyPortfolioOpt) (1.4.1)\n",
            "Requirement already satisfied: ecos>=2 in /usr/local/lib/python3.6/dist-packages (from cvxpy<2.0,>=1.0->PyPortfolioOpt) (2.0.7.post1)\n",
            "Requirement already satisfied: scs>=1.1.3 in /usr/local/lib/python3.6/dist-packages (from cvxpy<2.0,>=1.0->PyPortfolioOpt) (2.1.2)\n",
            "Requirement already satisfied: osqp>=0.4.1 in /usr/local/lib/python3.6/dist-packages (from cvxpy<2.0,>=1.0->PyPortfolioOpt) (0.6.1)\n",
            "Requirement already satisfied: multiprocess in /usr/local/lib/python3.6/dist-packages (from cvxpy<2.0,>=1.0->PyPortfolioOpt) (0.70.10)\n",
            "Requirement already satisfied: python-dateutil>=2.7.3 in /usr/local/lib/python3.6/dist-packages (from pandas>=0.19->PyPortfolioOpt) (2.8.1)\n",
            "Requirement already satisfied: pytz>=2017.2 in /usr/local/lib/python3.6/dist-packages (from pandas>=0.19->PyPortfolioOpt) (2018.9)\n",
            "Requirement already satisfied: future in /usr/local/lib/python3.6/dist-packages (from osqp>=0.4.1->cvxpy<2.0,>=1.0->PyPortfolioOpt) (0.16.0)\n",
            "Requirement already satisfied: dill>=0.3.2 in /usr/local/lib/python3.6/dist-packages (from multiprocess->cvxpy<2.0,>=1.0->PyPortfolioOpt) (0.3.2)\n",
            "Requirement already satisfied: six>=1.5 in /usr/local/lib/python3.6/dist-packages (from python-dateutil>=2.7.3->pandas>=0.19->PyPortfolioOpt) (1.15.0)\n"
          ],
          "name": "stdout"
        }
      ]
    },
    {
      "cell_type": "code",
      "metadata": {
        "id": "1YiSSWa3LTHQ"
      },
      "source": [
        "from pypfopt.efficient_frontier import EfficientFrontier\n",
        "from pypfopt import risk_models \n",
        "from pypfopt import expected_returns "
      ],
      "execution_count": 123,
      "outputs": []
    },
    {
      "cell_type": "code",
      "metadata": {
        "id": "6Lh8dd5gL8Ja",
        "outputId": "d6453796-477b-4f2d-aa57-7208c4de7a41",
        "colab": {
          "base_uri": "https://localhost:8080/",
          "height": 102
        }
      },
      "source": [
        "# Porfolio Optimization ! \n",
        "# Calculate the expected returns and the anualised sample covarince matrix of \n",
        "# assets returns\n",
        "\n",
        "mu = expected_returns.mean_historical_return(df)\n",
        "S = risk_models.sample_cov(df)\n",
        "\n",
        "# Optimize for max sharpe ratio\n",
        "ef = EfficientFrontier(mu, S)\n",
        "new_weights = ef.max_sharpe()\n",
        "cleaned_weights = ef.clean_weights()\n",
        "print(cleaned_weights)\n",
        "ef.portfolio_performance(verbose = True)"
      ],
      "execution_count": 124,
      "outputs": [
        {
          "output_type": "stream",
          "text": [
            "OrderedDict([('SANB4.SA', 0.12129), ('BBSE3.SA', 0.25351), ('TAEE11.SA', 0.62519), ('ITSA4.SA', 0.0), ('VALE3.SA', 0.0)])\n",
            "Expected annual return: 14.0%\n",
            "Annual volatility: 22.3%\n",
            "Sharpe Ratio: 0.54\n"
          ],
          "name": "stdout"
        },
        {
          "output_type": "execute_result",
          "data": {
            "text/plain": [
              "(0.1397456772002735, 0.22310749536733562, 0.5367174106056727)"
            ]
          },
          "metadata": {
            "tags": []
          },
          "execution_count": 124
        }
      ]
    },
    {
      "cell_type": "code",
      "metadata": {
        "id": "ev6MdLtOMASt",
        "outputId": "0e11c776-2e71-4f8c-a3bf-30b19a0d7d0d",
        "colab": {
          "base_uri": "https://localhost:8080/",
          "height": 34
        }
      },
      "source": [
        "0.12129 + 0.25351 + 0.62519"
      ],
      "execution_count": 125,
      "outputs": [
        {
          "output_type": "execute_result",
          "data": {
            "text/plain": [
              "0.99999"
            ]
          },
          "metadata": {
            "tags": []
          },
          "execution_count": 125
        }
      ]
    },
    {
      "cell_type": "code",
      "metadata": {
        "id": "9BAn3rVwPPCh",
        "outputId": "55703cd6-9263-4791-ed00-f0fe54122574",
        "colab": {
          "base_uri": "https://localhost:8080/",
          "height": 51
        }
      },
      "source": [
        "# Get the discrete allocation of each share per stock\n",
        "from pypfopt.discrete_allocation import DiscreteAllocation, get_latest_prices\n",
        "\n",
        "latest_prices = get_latest_prices(df)\n",
        "new_cleaned_weights = cleaned_weights\n",
        "da = DiscreteAllocation(new_cleaned_weights, latest_prices, total_portfolio_value = 1000 )\n",
        "\n",
        "allocation, leftover = da.lp_portfolio()\n",
        "print('Discrete allocation: ', allocation)\n",
        "print('Funds remaining: ${:.2f}'.format(leftover))\n"
      ],
      "execution_count": 129,
      "outputs": [
        {
          "output_type": "stream",
          "text": [
            "Discrete allocation:  {'SANB4.SA': 7, 'BBSE3.SA': 10, 'TAEE11.SA': 22}\n",
            "Funds remaining: $16.28\n"
          ],
          "name": "stdout"
        }
      ]
    }
  ]
}